{
 "cells": [
  {
   "cell_type": "code",
   "execution_count": 1,
   "metadata": {},
   "outputs": [
    {
     "name": "stdout",
     "output_type": "stream",
     "text": [
      "Requirement already satisfied: pandas in /Users/ayaoji/opt/anaconda3/lib/python3.7/site-packages (1.0.1)\n",
      "Requirement already satisfied: numpy in /Users/ayaoji/opt/anaconda3/lib/python3.7/site-packages (1.18.1)\n",
      "Requirement already satisfied: statsmodels in /Users/ayaoji/opt/anaconda3/lib/python3.7/site-packages (0.11.0)\n",
      "Requirement already satisfied: matplotlib in /Users/ayaoji/opt/anaconda3/lib/python3.7/site-packages (3.1.3)\n",
      "Requirement already satisfied: pmdarima in /Users/ayaoji/opt/anaconda3/lib/python3.7/site-packages (1.8.3)\n",
      "Requirement already satisfied: python-dateutil>=2.6.1 in /Users/ayaoji/opt/anaconda3/lib/python3.7/site-packages (from pandas) (2.8.1)\n",
      "Requirement already satisfied: pytz>=2017.2 in /Users/ayaoji/opt/anaconda3/lib/python3.7/site-packages (from pandas) (2019.3)\n",
      "Requirement already satisfied: scipy>=1.0 in /Users/ayaoji/opt/anaconda3/lib/python3.7/site-packages (from statsmodels) (1.4.1)\n",
      "Requirement already satisfied: patsy>=0.5 in /Users/ayaoji/opt/anaconda3/lib/python3.7/site-packages (from statsmodels) (0.5.1)\n",
      "Requirement already satisfied: kiwisolver>=1.0.1 in /Users/ayaoji/opt/anaconda3/lib/python3.7/site-packages (from matplotlib) (1.1.0)\n",
      "Requirement already satisfied: cycler>=0.10 in /Users/ayaoji/opt/anaconda3/lib/python3.7/site-packages (from matplotlib) (0.10.0)\n",
      "Requirement already satisfied: pyparsing!=2.0.4,!=2.1.2,!=2.1.6,>=2.0.1 in /Users/ayaoji/opt/anaconda3/lib/python3.7/site-packages (from matplotlib) (2.4.6)\n",
      "Requirement already satisfied: urllib3 in /Users/ayaoji/opt/anaconda3/lib/python3.7/site-packages (from pmdarima) (1.25.8)\n",
      "Requirement already satisfied: scikit-learn>=0.22 in /Users/ayaoji/opt/anaconda3/lib/python3.7/site-packages (from pmdarima) (0.22.1)\n",
      "Requirement already satisfied: Cython!=0.29.18,>=0.29 in /Users/ayaoji/opt/anaconda3/lib/python3.7/site-packages (from pmdarima) (0.29.15)\n",
      "Requirement already satisfied: joblib>=0.11 in /Users/ayaoji/opt/anaconda3/lib/python3.7/site-packages (from pmdarima) (0.14.1)\n",
      "Requirement already satisfied: setuptools!=50.0.0,>=38.6.0 in /Users/ayaoji/opt/anaconda3/lib/python3.7/site-packages (from pmdarima) (46.0.0.post20200309)\n",
      "Requirement already satisfied: six>=1.5 in /Users/ayaoji/opt/anaconda3/lib/python3.7/site-packages (from python-dateutil>=2.6.1->pandas) (1.14.0)\n",
      "Note: you may need to restart the kernel to use updated packages.\n"
     ]
    }
   ],
   "source": [
    "pip install pandas numpy statsmodels matplotlib pmdarima"
   ]
  },
  {
   "cell_type": "code",
   "execution_count": 2,
   "metadata": {},
   "outputs": [],
   "source": [
    "import warnings\n",
    "import itertools\n",
    "import pandas as pd\n",
    "import numpy as np\n",
    "import statsmodels.api as sm\n",
    "import matplotlib.pyplot as plt\n",
    "plt.style.use('fivethirtyeight')"
   ]
  },
  {
   "cell_type": "code",
   "execution_count": 58,
   "metadata": {},
   "outputs": [
    {
     "name": "stdout",
     "output_type": "stream",
     "text": [
      "Shape of data (19, 2)\n"
     ]
    },
    {
     "data": {
      "text/html": [
       "<div>\n",
       "<style scoped>\n",
       "    .dataframe tbody tr th:only-of-type {\n",
       "        vertical-align: middle;\n",
       "    }\n",
       "\n",
       "    .dataframe tbody tr th {\n",
       "        vertical-align: top;\n",
       "    }\n",
       "\n",
       "    .dataframe thead th {\n",
       "        text-align: right;\n",
       "    }\n",
       "</style>\n",
       "<table border=\"1\" class=\"dataframe\">\n",
       "  <thead>\n",
       "    <tr style=\"text-align: right;\">\n",
       "      <th></th>\n",
       "      <th>GDP_capita</th>\n",
       "      <th>GDP</th>\n",
       "    </tr>\n",
       "    <tr>\n",
       "      <th>Date</th>\n",
       "      <th></th>\n",
       "      <th></th>\n",
       "    </tr>\n",
       "  </thead>\n",
       "  <tbody>\n",
       "    <tr>\n",
       "      <th>2000-01-01</th>\n",
       "      <td>38532.0415</td>\n",
       "      <td>3466.702</td>\n",
       "    </tr>\n",
       "    <tr>\n",
       "      <th>2001-01-01</th>\n",
       "      <td>33846.4524</td>\n",
       "      <td>3495.563</td>\n",
       "    </tr>\n",
       "    <tr>\n",
       "      <th>2002-01-01</th>\n",
       "      <td>32289.3456</td>\n",
       "      <td>3638.031</td>\n",
       "    </tr>\n",
       "    <tr>\n",
       "      <th>2003-01-01</th>\n",
       "      <td>34808.4017</td>\n",
       "      <td>3765.294</td>\n",
       "    </tr>\n",
       "    <tr>\n",
       "      <th>2004-01-01</th>\n",
       "      <td>37688.8724</td>\n",
       "      <td>3922.305</td>\n",
       "    </tr>\n",
       "    <tr>\n",
       "      <th>2005-01-01</th>\n",
       "      <td>37217.6448</td>\n",
       "      <td>4126.456</td>\n",
       "    </tr>\n",
       "    <tr>\n",
       "      <th>2006-01-01</th>\n",
       "      <td>35433.9854</td>\n",
       "      <td>4308.202</td>\n",
       "    </tr>\n",
       "    <tr>\n",
       "      <th>2007-01-01</th>\n",
       "      <td>35275.2197</td>\n",
       "      <td>4455.119</td>\n",
       "    </tr>\n",
       "    <tr>\n",
       "      <th>2008-01-01</th>\n",
       "      <td>39339.2999</td>\n",
       "      <td>4377.987</td>\n",
       "    </tr>\n",
       "    <tr>\n",
       "      <th>2009-01-01</th>\n",
       "      <td>40855.1804</td>\n",
       "      <td>4332.453</td>\n",
       "    </tr>\n",
       "    <tr>\n",
       "      <th>2010-01-01</th>\n",
       "      <td>44507.6764</td>\n",
       "      <td>4543.025</td>\n",
       "    </tr>\n",
       "    <tr>\n",
       "      <th>2011-01-01</th>\n",
       "      <td>48167.9973</td>\n",
       "      <td>4649.248</td>\n",
       "    </tr>\n",
       "    <tr>\n",
       "      <th>2012-01-01</th>\n",
       "      <td>48603.4766</td>\n",
       "      <td>4796.428</td>\n",
       "    </tr>\n",
       "    <tr>\n",
       "      <th>2013-01-01</th>\n",
       "      <td>40454.4475</td>\n",
       "      <td>5014.488</td>\n",
       "    </tr>\n",
       "    <tr>\n",
       "      <th>2014-01-01</th>\n",
       "      <td>38109.4121</td>\n",
       "      <td>5001.044</td>\n",
       "    </tr>\n",
       "    <tr>\n",
       "      <th>2015-01-01</th>\n",
       "      <td>34524.4699</td>\n",
       "      <td>5155.384</td>\n",
       "    </tr>\n",
       "    <tr>\n",
       "      <th>2016-01-01</th>\n",
       "      <td>38761.8182</td>\n",
       "      <td>5244.116</td>\n",
       "    </tr>\n",
       "    <tr>\n",
       "      <th>2017-01-01</th>\n",
       "      <td>38386.5111</td>\n",
       "      <td>5385.336</td>\n",
       "    </tr>\n",
       "    <tr>\n",
       "      <th>2018-01-01</th>\n",
       "      <td>39159.4236</td>\n",
       "      <td>5543.976</td>\n",
       "    </tr>\n",
       "  </tbody>\n",
       "</table>\n",
       "</div>"
      ],
      "text/plain": [
       "            GDP_capita       GDP\n",
       "Date                            \n",
       "2000-01-01  38532.0415  3466.702\n",
       "2001-01-01  33846.4524  3495.563\n",
       "2002-01-01  32289.3456  3638.031\n",
       "2003-01-01  34808.4017  3765.294\n",
       "2004-01-01  37688.8724  3922.305\n",
       "2005-01-01  37217.6448  4126.456\n",
       "2006-01-01  35433.9854  4308.202\n",
       "2007-01-01  35275.2197  4455.119\n",
       "2008-01-01  39339.2999  4377.987\n",
       "2009-01-01  40855.1804  4332.453\n",
       "2010-01-01  44507.6764  4543.025\n",
       "2011-01-01  48167.9973  4649.248\n",
       "2012-01-01  48603.4766  4796.428\n",
       "2013-01-01  40454.4475  5014.488\n",
       "2014-01-01  38109.4121  5001.044\n",
       "2015-01-01  34524.4699  5155.384\n",
       "2016-01-01  38761.8182  5244.116\n",
       "2017-01-01  38386.5111  5385.336\n",
       "2018-01-01  39159.4236  5543.976"
      ]
     },
     "execution_count": 58,
     "metadata": {},
     "output_type": "execute_result"
    }
   ],
   "source": [
    "import pandas as pd\n",
    "import numpy as np\n",
    "\n",
    "\n",
    "df = pd.read_excel (r'/Users/ayaoji/Desktop/Summer Assignment 2021/japan-data.xlsx', index_col = 'Date', parse_dates =True)\n",
    "df=df.dropna()\n",
    "print('Shape of data',df.shape)\n",
    "df.head()\n",
    "df\n",
    "\n"
   ]
  },
  {
   "cell_type": "code",
   "execution_count": 59,
   "metadata": {},
   "outputs": [
    {
     "data": {
      "text/plain": [
       "<matplotlib.axes._subplots.AxesSubplot at 0x1a1c9597d0>"
      ]
     },
     "execution_count": 59,
     "metadata": {},
     "output_type": "execute_result"
    },
    {
     "data": {
      "image/png": "[encoded data removed]",
      "text/plain": [
       "<Figure size 864x360 with 1 Axes>"
      ]
     },
     "metadata": {},
     "output_type": "display_data"
    }
   ],
   "source": [
    "df['GDP_capita'].plot(figsize=(12,5))"
   ]
  },
  {
   "cell_type": "markdown",
   "metadata": {},
   "source": [
    "Cheking for stationarity"
   ]
  },
  {
   "cell_type": "code",
   "execution_count": 60,
   "metadata": {},
   "outputs": [],
   "source": [
    "from statsmodels.tsa.stattools import adfuller"
   ]
  },
  {
   "cell_type": "code",
   "execution_count": 61,
   "metadata": {},
   "outputs": [],
   "source": [
    "\n",
    "def ad_test(dataset):\n",
    "     dftest = adfuller(dataset, autolag = 'AIC')\n",
    "     print(\"1. ADF : \",dftest[0])\n",
    "     print(\"2. P-Value : \", dftest[1])\n",
    "     print(\"3. Num Of Lags : \", dftest[2])\n",
    "     print(\"4. Num Of Observations Used For ADF Regression:\",      dftest[3])\n",
    "     print(\"5. Critical Values :\")\n",
    "     for key, val in dftest[4].items():\n",
    "         print(\"\\t\",key, \": \", val)\n"
   ]
  },
  {
   "cell_type": "code",
   "execution_count": 62,
   "metadata": {},
   "outputs": [
    {
     "name": "stdout",
     "output_type": "stream",
     "text": [
      "1. ADF :  -2.4235920587406192\n",
      "2. P-Value :  0.1351881306541063\n",
      "3. Num Of Lags :  2\n",
      "4. Num Of Observations Used For ADF Regression: 16\n",
      "5. Critical Values :\n",
      "\t 1% :  -3.9240193847656246\n",
      "\t 5% :  -3.0684982031250003\n",
      "\t 10% :  -2.67389265625\n"
     ]
    }
   ],
   "source": [
    "ad_test(df['GDP_capita'])\n",
    "\n",
    "## how to intupret test \n",
    "## p value smaller the better (means it is stationary)\n",
    "## p > 0.05 so not stationary \n"
   ]
  },
  {
   "cell_type": "markdown",
   "metadata": {},
   "source": [
    "ARIMA MODEL "
   ]
  },
  {
   "cell_type": "code",
   "execution_count": 63,
   "metadata": {},
   "outputs": [],
   "source": [
    "from pmdarima import auto_arima\n",
    "#Ignore harmless warnings\n",
    "import warnings\n",
    "warnings.filterwarnings(\"ignore\")\n"
   ]
  },
  {
   "cell_type": "code",
   "execution_count": 64,
   "metadata": {},
   "outputs": [
    {
     "name": "stdout",
     "output_type": "stream",
     "text": [
      "Performing stepwise search to minimize aic\n",
      " ARIMA(2,0,2)(0,0,0)[0] intercept   : AIC=364.030, Time=0.13 sec\n",
      " ARIMA(0,0,0)(0,0,0)[0] intercept   : AIC=375.938, Time=0.02 sec\n",
      " ARIMA(1,0,0)(0,0,0)[0] intercept   : AIC=364.344, Time=0.01 sec\n",
      " ARIMA(0,0,1)(0,0,0)[0] intercept   : AIC=367.391, Time=0.04 sec\n",
      " ARIMA(0,0,0)(0,0,0)[0]             : AIC=457.604, Time=0.00 sec\n",
      " ARIMA(1,0,2)(0,0,0)[0] intercept   : AIC=362.126, Time=0.04 sec\n",
      " ARIMA(0,0,2)(0,0,0)[0] intercept   : AIC=361.231, Time=0.04 sec\n",
      " ARIMA(0,0,3)(0,0,0)[0] intercept   : AIC=362.416, Time=0.07 sec\n",
      " ARIMA(1,0,1)(0,0,0)[0] intercept   : AIC=364.346, Time=0.03 sec\n",
      " ARIMA(1,0,3)(0,0,0)[0] intercept   : AIC=inf, Time=0.27 sec\n",
      " ARIMA(0,0,2)(0,0,0)[0]             : AIC=447.521, Time=0.02 sec\n",
      "\n",
      "Best model:  ARIMA(0,0,2)(0,0,0)[0] intercept\n",
      "Total fit time: 0.686 seconds\n"
     ]
    },
    {
     "data": {
      "text/html": [
       "<table class=\"simpletable\">\n",
       "<caption>SARIMAX Results</caption>\n",
       "<tr>\n",
       "  <th>Dep. Variable:</th>           <td>y</td>        <th>  No. Observations:  </th>    <td>19</td>   \n",
       "</tr>\n",
       "<tr>\n",
       "  <th>Model:</th>           <td>SARIMAX(0, 0, 2)</td> <th>  Log Likelihood     </th> <td>-176.615</td>\n",
       "</tr>\n",
       "<tr>\n",
       "  <th>Date:</th>            <td>Mon, 27 Sep 2021</td> <th>  AIC                </th>  <td>361.231</td>\n",
       "</tr>\n",
       "<tr>\n",
       "  <th>Time:</th>                <td>14:55:37</td>     <th>  BIC                </th>  <td>365.009</td>\n",
       "</tr>\n",
       "<tr>\n",
       "  <th>Sample:</th>                  <td>0</td>        <th>  HQIC               </th>  <td>361.870</td>\n",
       "</tr>\n",
       "<tr>\n",
       "  <th></th>                       <td> - 19</td>      <th>                     </th>     <td> </td>   \n",
       "</tr>\n",
       "<tr>\n",
       "  <th>Covariance Type:</th>        <td>opg</td>       <th>                     </th>     <td> </td>   \n",
       "</tr>\n",
       "</table>\n",
       "<table class=\"simpletable\">\n",
       "<tr>\n",
       "      <td></td>         <th>coef</th>     <th>std err</th>      <th>z</th>      <th>P>|z|</th>  <th>[0.025</th>    <th>0.975]</th>  \n",
       "</tr>\n",
       "<tr>\n",
       "  <th>intercept</th> <td> 3.972e+04</td> <td> 1871.378</td> <td>   21.226</td> <td> 0.000</td> <td> 3.61e+04</td> <td> 4.34e+04</td>\n",
       "</tr>\n",
       "<tr>\n",
       "  <th>ma.L1</th>     <td>    0.9825</td> <td>    0.317</td> <td>    3.103</td> <td> 0.002</td> <td>    0.362</td> <td>    1.603</td>\n",
       "</tr>\n",
       "<tr>\n",
       "  <th>ma.L2</th>     <td>    0.6608</td> <td>    0.471</td> <td>    1.404</td> <td> 0.160</td> <td>   -0.262</td> <td>    1.583</td>\n",
       "</tr>\n",
       "<tr>\n",
       "  <th>sigma2</th>    <td> 7.449e+06</td> <td> 3.58e+06</td> <td>    2.083</td> <td> 0.037</td> <td> 4.41e+05</td> <td> 1.45e+07</td>\n",
       "</tr>\n",
       "</table>\n",
       "<table class=\"simpletable\">\n",
       "<tr>\n",
       "  <th>Ljung-Box (Q):</th>          <td>8.83</td> <th>  Jarque-Bera (JB):  </th> <td>0.44</td>\n",
       "</tr>\n",
       "<tr>\n",
       "  <th>Prob(Q):</th>                <td>0.96</td> <th>  Prob(JB):          </th> <td>0.80</td>\n",
       "</tr>\n",
       "<tr>\n",
       "  <th>Heteroskedasticity (H):</th> <td>1.32</td> <th>  Skew:              </th> <td>0.31</td>\n",
       "</tr>\n",
       "<tr>\n",
       "  <th>Prob(H) (two-sided):</th>    <td>0.74</td> <th>  Kurtosis:          </th> <td>2.59</td>\n",
       "</tr>\n",
       "</table><br/><br/>Warnings:<br/>[1] Covariance matrix calculated using the outer product of gradients (complex-step)."
      ],
      "text/plain": [
       "<class 'statsmodels.iolib.summary.Summary'>\n",
       "\"\"\"\n",
       "                               SARIMAX Results                                \n",
       "==============================================================================\n",
       "Dep. Variable:                      y   No. Observations:                   19\n",
       "Model:               SARIMAX(0, 0, 2)   Log Likelihood                -176.615\n",
       "Date:                Mon, 27 Sep 2021   AIC                            361.231\n",
       "Time:                        14:55:37   BIC                            365.009\n",
       "Sample:                             0   HQIC                           361.870\n",
       "                                 - 19                                         \n",
       "Covariance Type:                  opg                                         \n",
       "==============================================================================\n",
       "                 coef    std err          z      P>|z|      [0.025      0.975]\n",
       "------------------------------------------------------------------------------\n",
       "intercept   3.972e+04   1871.378     21.226      0.000    3.61e+04    4.34e+04\n",
       "ma.L1          0.9825      0.317      3.103      0.002       0.362       1.603\n",
       "ma.L2          0.6608      0.471      1.404      0.160      -0.262       1.583\n",
       "sigma2      7.449e+06   3.58e+06      2.083      0.037    4.41e+05    1.45e+07\n",
       "===================================================================================\n",
       "Ljung-Box (Q):                        8.83   Jarque-Bera (JB):                 0.44\n",
       "Prob(Q):                              0.96   Prob(JB):                         0.80\n",
       "Heteroskedasticity (H):               1.32   Skew:                             0.31\n",
       "Prob(H) (two-sided):                  0.74   Kurtosis:                         2.59\n",
       "===================================================================================\n",
       "\n",
       "Warnings:\n",
       "[1] Covariance matrix calculated using the outer product of gradients (complex-step).\n",
       "\"\"\""
      ]
     },
     "execution_count": 64,
     "metadata": {},
     "output_type": "execute_result"
    }
   ],
   "source": [
    "stepwise_fit = auto_arima(df['GDP_capita'], trace=True,\n",
    "                            suppress_warnings=True)\n",
    "\n",
    "stepwise_fit.summary()\n",
    "# goal is to minimize the AIC "
   ]
  },
  {
   "cell_type": "markdown",
   "metadata": {},
   "source": [
    "Split the data and test the model "
   ]
  },
  {
   "cell_type": "code",
   "execution_count": 65,
   "metadata": {},
   "outputs": [],
   "source": [
    "from statsmodels.tsa.arima_model import ARIMA"
   ]
  },
  {
   "cell_type": "code",
   "execution_count": 66,
   "metadata": {},
   "outputs": [
    {
     "name": "stdout",
     "output_type": "stream",
     "text": [
      "(19, 2)\n",
      "(15, 2) (4, 2)\n"
     ]
    }
   ],
   "source": [
    "print(df.shape)\n",
    "train=df.iloc[:-4]\n",
    "test=df.iloc[-4:]\n",
    "print(train.shape,test.shape)"
   ]
  },
  {
   "cell_type": "code",
   "execution_count": 67,
   "metadata": {},
   "outputs": [
    {
     "data": {
      "text/html": [
       "<table class=\"simpletable\">\n",
       "<caption>ARIMA Model Results</caption>\n",
       "<tr>\n",
       "  <th>Dep. Variable:</th>   <td>D.GDP_capita</td>   <th>  No. Observations:  </th>    <td>14</td>   \n",
       "</tr>\n",
       "<tr>\n",
       "  <th>Model:</th>          <td>ARIMA(0, 1, 2)</td>  <th>  Log Likelihood     </th> <td>-132.163</td>\n",
       "</tr>\n",
       "<tr>\n",
       "  <th>Method:</th>             <td>css-mle</td>     <th>  S.D. of innovations</th> <td>3004.646</td>\n",
       "</tr>\n",
       "<tr>\n",
       "  <th>Date:</th>          <td>Mon, 27 Sep 2021</td> <th>  AIC                </th>  <td>272.326</td>\n",
       "</tr>\n",
       "<tr>\n",
       "  <th>Time:</th>              <td>14:55:46</td>     <th>  BIC                </th>  <td>274.883</td>\n",
       "</tr>\n",
       "<tr>\n",
       "  <th>Sample:</th>           <td>01-01-2001</td>    <th>  HQIC               </th>  <td>272.090</td>\n",
       "</tr>\n",
       "<tr>\n",
       "  <th></th>                 <td>- 01-01-2014</td>   <th>                     </th>     <td> </td>   \n",
       "</tr>\n",
       "</table>\n",
       "<table class=\"simpletable\">\n",
       "<tr>\n",
       "           <td></td>             <th>coef</th>     <th>std err</th>      <th>z</th>      <th>P>|z|</th>  <th>[0.025</th>    <th>0.975]</th>  \n",
       "</tr>\n",
       "<tr>\n",
       "  <th>const</th>              <td> -172.1949</td> <td> 1374.704</td> <td>   -0.125</td> <td> 0.900</td> <td>-2866.566</td> <td> 2522.176</td>\n",
       "</tr>\n",
       "<tr>\n",
       "  <th>ma.L1.D.GDP_capita</th> <td>    0.6091</td> <td>    0.537</td> <td>    1.134</td> <td> 0.257</td> <td>   -0.444</td> <td>    1.662</td>\n",
       "</tr>\n",
       "<tr>\n",
       "  <th>ma.L2.D.GDP_capita</th> <td>    0.1538</td> <td>    0.547</td> <td>    0.281</td> <td> 0.779</td> <td>   -0.918</td> <td>    1.226</td>\n",
       "</tr>\n",
       "</table>\n",
       "<table class=\"simpletable\">\n",
       "<caption>Roots</caption>\n",
       "<tr>\n",
       "    <td></td>   <th>            Real</th>  <th>         Imaginary</th> <th>         Modulus</th>  <th>        Frequency</th>\n",
       "</tr>\n",
       "<tr>\n",
       "  <th>MA.1</th> <td>          -1.9800</td> <td>          -1.6067j</td> <td>           2.5498</td> <td>          -0.3915</td>\n",
       "</tr>\n",
       "<tr>\n",
       "  <th>MA.2</th> <td>          -1.9800</td> <td>          +1.6067j</td> <td>           2.5498</td> <td>           0.3915</td>\n",
       "</tr>\n",
       "</table>"
      ],
      "text/plain": [
       "<class 'statsmodels.iolib.summary.Summary'>\n",
       "\"\"\"\n",
       "                             ARIMA Model Results                              \n",
       "==============================================================================\n",
       "Dep. Variable:           D.GDP_capita   No. Observations:                   14\n",
       "Model:                 ARIMA(0, 1, 2)   Log Likelihood                -132.163\n",
       "Method:                       css-mle   S.D. of innovations           3004.646\n",
       "Date:                Mon, 27 Sep 2021   AIC                            272.326\n",
       "Time:                        14:55:46   BIC                            274.883\n",
       "Sample:                    01-01-2001   HQIC                           272.090\n",
       "                         - 01-01-2014                                         \n",
       "======================================================================================\n",
       "                         coef    std err          z      P>|z|      [0.025      0.975]\n",
       "--------------------------------------------------------------------------------------\n",
       "const               -172.1949   1374.704     -0.125      0.900   -2866.566    2522.176\n",
       "ma.L1.D.GDP_capita     0.6091      0.537      1.134      0.257      -0.444       1.662\n",
       "ma.L2.D.GDP_capita     0.1538      0.547      0.281      0.779      -0.918       1.226\n",
       "                                    Roots                                    \n",
       "=============================================================================\n",
       "                  Real          Imaginary           Modulus         Frequency\n",
       "-----------------------------------------------------------------------------\n",
       "MA.1           -1.9800           -1.6067j            2.5498           -0.3915\n",
       "MA.2           -1.9800           +1.6067j            2.5498            0.3915\n",
       "-----------------------------------------------------------------------------\n",
       "\"\"\""
      ]
     },
     "execution_count": 67,
     "metadata": {},
     "output_type": "execute_result"
    }
   ],
   "source": [
    "from statsmodels.tsa.arima_model import ARIMA\n",
    "model=ARIMA(train['GDP_capita'],order=(0,1,2))\n",
    "model=model.fit()\n",
    "model.summary()"
   ]
  },
  {
   "cell_type": "markdown",
   "metadata": {},
   "source": [
    "Make prediction on Test Set "
   ]
  },
  {
   "cell_type": "code",
   "execution_count": 68,
   "metadata": {},
   "outputs": [
    {
     "name": "stdout",
     "output_type": "stream",
     "text": [
      "2015-01-01    38364.185366\n",
      "2016-01-01    38596.209599\n",
      "2017-01-01    38424.014691\n",
      "2018-01-01    38251.819784\n",
      "Freq: AS-JAN, Name: ARIMA Predictions, dtype: float64\n"
     ]
    }
   ],
   "source": [
    "start=len(train)\n",
    "end=len(train)+len(test)-1\n",
    "pred=model.predict(start=start,end=end,typ='levels').rename('ARIMA Predictions')\n",
    "print(pred)\n"
   ]
  },
  {
   "cell_type": "code",
   "execution_count": 69,
   "metadata": {},
   "outputs": [
    {
     "data": {
      "text/plain": [
       "37708.055700000004"
      ]
     },
     "execution_count": 69,
     "metadata": {},
     "output_type": "execute_result"
    }
   ],
   "source": [
    "test['GDP_capita'].mean()"
   ]
  },
  {
   "cell_type": "code",
   "execution_count": 70,
   "metadata": {},
   "outputs": [
    {
     "data": {
      "text/plain": [
       "<matplotlib.axes._subplots.AxesSubplot at 0x1a1c96d790>"
      ]
     },
     "execution_count": 70,
     "metadata": {},
     "output_type": "execute_result"
    },
    {
     "data": {
      "image/png": "[encoded data removed]",
      "text/plain": [
       "<Figure size 432x288 with 1 Axes>"
      ]
     },
     "metadata": {},
     "output_type": "display_data"
    }
   ],
   "source": [
    "pred.plot(legend=True)\n",
    "test['GDP_capita'].plot(legend=True)"
   ]
  },
  {
   "cell_type": "code",
   "execution_count": 71,
   "metadata": {},
   "outputs": [
    {
     "name": "stdout",
     "output_type": "stream",
     "text": [
      "1974.5880756206823\n"
     ]
    }
   ],
   "source": [
    "from sklearn.metrics import mean_squared_error\n",
    "from math import sqrt\n",
    "test['GDP_capita'].mean()\n",
    "rmse=sqrt(mean_squared_error(pred,test['GDP_capita']))\n",
    "print(rmse)"
   ]
  },
  {
   "cell_type": "code",
   "execution_count": 31,
   "metadata": {},
   "outputs": [],
   "source": [
    "#it is a bad model if the mean of the data set is similar to the mean of the prediction"
   ]
  },
  {
   "cell_type": "markdown",
   "metadata": {},
   "source": [
    "Apply the model to the entire data set and predict the future "
   ]
  },
  {
   "cell_type": "code",
   "execution_count": 72,
   "metadata": {},
   "outputs": [
    {
     "data": {
      "text/html": [
       "<div>\n",
       "<style scoped>\n",
       "    .dataframe tbody tr th:only-of-type {\n",
       "        vertical-align: middle;\n",
       "    }\n",
       "\n",
       "    .dataframe tbody tr th {\n",
       "        vertical-align: top;\n",
       "    }\n",
       "\n",
       "    .dataframe thead th {\n",
       "        text-align: right;\n",
       "    }\n",
       "</style>\n",
       "<table border=\"1\" class=\"dataframe\">\n",
       "  <thead>\n",
       "    <tr style=\"text-align: right;\">\n",
       "      <th></th>\n",
       "      <th>GDP_capita</th>\n",
       "      <th>GDP</th>\n",
       "    </tr>\n",
       "    <tr>\n",
       "      <th>Date</th>\n",
       "      <th></th>\n",
       "      <th></th>\n",
       "    </tr>\n",
       "  </thead>\n",
       "  <tbody>\n",
       "    <tr>\n",
       "      <th>2014-01-01</th>\n",
       "      <td>38109.4121</td>\n",
       "      <td>5001.044</td>\n",
       "    </tr>\n",
       "    <tr>\n",
       "      <th>2015-01-01</th>\n",
       "      <td>34524.4699</td>\n",
       "      <td>5155.384</td>\n",
       "    </tr>\n",
       "    <tr>\n",
       "      <th>2016-01-01</th>\n",
       "      <td>38761.8182</td>\n",
       "      <td>5244.116</td>\n",
       "    </tr>\n",
       "    <tr>\n",
       "      <th>2017-01-01</th>\n",
       "      <td>38386.5111</td>\n",
       "      <td>5385.336</td>\n",
       "    </tr>\n",
       "    <tr>\n",
       "      <th>2018-01-01</th>\n",
       "      <td>39159.4236</td>\n",
       "      <td>5543.976</td>\n",
       "    </tr>\n",
       "  </tbody>\n",
       "</table>\n",
       "</div>"
      ],
      "text/plain": [
       "            GDP_capita       GDP\n",
       "Date                            \n",
       "2014-01-01  38109.4121  5001.044\n",
       "2015-01-01  34524.4699  5155.384\n",
       "2016-01-01  38761.8182  5244.116\n",
       "2017-01-01  38386.5111  5385.336\n",
       "2018-01-01  39159.4236  5543.976"
      ]
     },
     "execution_count": 72,
     "metadata": {},
     "output_type": "execute_result"
    }
   ],
   "source": [
    "model2=ARIMA(df['GDP_capita'],order=(0,1,2))\n",
    "model2=model2.fit()\n",
    "df.tail()"
   ]
  },
  {
   "cell_type": "code",
   "execution_count": 73,
   "metadata": {},
   "outputs": [
    {
     "name": "stdout",
     "output_type": "stream",
     "text": [
      "DatetimeIndex(['2018-12-31', '2019-12-31'], dtype='datetime64[ns]', freq='A-DEC')\n"
     ]
    }
   ],
   "source": [
    "index_future_dates=pd.date_range(start='2018-01-01',end='2020-01-01', freq=\"Y\")\n",
    "print(index_future_dates)"
   ]
  },
  {
   "cell_type": "code",
   "execution_count": 74,
   "metadata": {},
   "outputs": [
    {
     "name": "stdout",
     "output_type": "stream",
     "text": [
      "2018-12-31    38308.115610\n",
      "2019-12-31    38073.787519\n",
      "Freq: A-DEC, Name: ARIMA Predictions, dtype: float64\n"
     ]
    }
   ],
   "source": [
    "pred=model2.predict(start=len(df),end=len(df)+1,typ='levels').rename('ARIMA Predictions')\n",
    "\n",
    "#print(comp_pred)\n",
    "pred.index=index_future_dates\n",
    "print(pred)"
   ]
  },
  {
   "cell_type": "code",
   "execution_count": null,
   "metadata": {},
   "outputs": [],
   "source": []
  }
 ],
 "metadata": {
  "kernelspec": {
   "display_name": "Python 3",
   "language": "python",
   "name": "python3"
  },
  "language_info": {
   "codemirror_mode": {
    "name": "ipython",
    "version": 3
   },
   "file_extension": ".py",
   "mimetype": "text/x-python",
   "name": "python",
   "nbconvert_exporter": "python",
   "pygments_lexer": "ipython3",
   "version": "3.7.6"
  }
 },
 "nbformat": 4,
 "nbformat_minor": 4
}
